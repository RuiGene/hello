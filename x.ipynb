{
 "cells": [
  {
   "cell_type": "code",
   "execution_count": 1,
   "metadata": {},
   "outputs": [],
   "source": [
    "import pandas as pd\n",
    "import plotly.express as px\n",
    "import plotly.graph_objects as go\n",
    "import fundamentalanalysis as fa\n",
    "from datetime import datetime\n",
    "import plotly.express as px\n",
    "from datetime import date, timedelta\n",
    "import numpy as np\n",
    "FA_API_KEY = '85fe259a4ec6fad3cbe55a5ddaf7f9b4'\n",
    "\n",
    "profile = fa.profile('AAPL', FA_API_KEY)"
   ]
  },
  {
   "cell_type": "code",
   "execution_count": null,
   "metadata": {},
   "outputs": [],
   "source": [
    "dividends = fa.stock_dividend('META', FA_API_KEY)\n",
    "# dividends.index = pd.to_datetime(dividends.index)\n",
    "x = {\"dividends\": dividends}\n",
    "dividend_dates = x[\"dividends\"][\"paymentDate\"].values\n",
    "dividend_dates = dividend_dates[dividend_dates != \"\"]\n",
    "def convert_date(date_string):\n",
    "    return datetime.strptime(date_string, \"%Y-%m-%d\").date()\n",
    "date_objects = np.vectorize(convert_date)(dividend_dates)"
   ]
  },
  {
   "cell_type": "code",
   "execution_count": 2,
   "metadata": {},
   "outputs": [],
   "source": [
    "dividends = 0\n",
    "def graph(closing, time_frame):\n",
    "    today = date.today()\n",
    "    if time_frame == '1 Week':\n",
    "        start_date = today - timedelta(days = 7)\n",
    "    elif time_frame == '1 Month':\n",
    "        start_date = today - timedelta(days = 30)\n",
    "    elif time_frame == '3 Months':\n",
    "        start_date = today - timedelta(days = 90)\n",
    "    elif time_frame == '6 Months':\n",
    "        start_date = today - timedelta(days = 180)\n",
    "    elif time_frame == '1 Year':\n",
    "        start_date = today - timedelta(days = 365)\n",
    "    elif time_frame == '3 Years':\n",
    "        start_date = today - timedelta(days = 1095)\n",
    "    elif time_frame == '5 Years':\n",
    "        start_date = today - timedelta(days = 1825)\n",
    "    else:\n",
    "        raise ValueError(\"Invalid time frame\")\n",
    "    fig = px.line(x= closing[start_date:today].index, y = closing.loc[start_date:today])\n",
    "    fig.update_layout(\n",
    "        yaxis_title = \"Price ($)\",\n",
    "        xaxis_title = \"Date\"\n",
    "    )\n",
    "    if dividends != 0:\n",
    "        past_dates = date_objects[date_objects > start_date]\n",
    "        dividend_trace = go.Scatter(\n",
    "            x = past_dates,\n",
    "            y=closing.loc[past_dates],\n",
    "            mode='markers',\n",
    "            marker=dict(\n",
    "                symbol='cross',\n",
    "                size=10,\n",
    "                color='black',\n",
    "                line=dict(width=2, color='black')\n",
    "            ),\n",
    "            name='Dividend Payout Dates'\n",
    "        )\n",
    "        fig.add_trace(dividend_trace)\n",
    "        return fig\n",
    "    else:\n",
    "        return fig\n",
    "prices = fa.stock_data('AAPL', period = \"5y\", interval = \"1d\")\n",
    "# graph(prices[\"close\"], '5 Years')"
   ]
  },
  {
   "cell_type": "code",
   "execution_count": 3,
   "metadata": {},
   "outputs": [
    {
     "ename": "NameError",
     "evalue": "name 'x' is not defined",
     "output_type": "error",
     "traceback": [
      "\u001b[1;31m---------------------------------------------------------------------------\u001b[0m",
      "\u001b[1;31mNameError\u001b[0m                                 Traceback (most recent call last)",
      "\u001b[1;32m~\\AppData\\Local\\Temp/ipykernel_10296/169571034.py\u001b[0m in \u001b[0;36m<module>\u001b[1;34m\u001b[0m\n\u001b[0;32m      1\u001b[0m \u001b[1;32mimport\u001b[0m \u001b[0mplotly\u001b[0m\u001b[1;33m.\u001b[0m\u001b[0mgraph_objects\u001b[0m \u001b[1;32mas\u001b[0m \u001b[0mgo\u001b[0m\u001b[1;33m\u001b[0m\u001b[1;33m\u001b[0m\u001b[0m\n\u001b[1;32m----> 2\u001b[1;33m \u001b[0mpayout\u001b[0m \u001b[1;33m=\u001b[0m \u001b[0mx\u001b[0m\u001b[1;33m[\u001b[0m\u001b[1;34m\"dividends\"\u001b[0m\u001b[1;33m]\u001b[0m\u001b[1;33m[\u001b[0m\u001b[1;34m\"adjDividend\"\u001b[0m\u001b[1;33m]\u001b[0m\u001b[1;33m[\u001b[0m\u001b[1;36m0\u001b[0m\u001b[1;33m:\u001b[0m\u001b[1;36m4\u001b[0m\u001b[1;33m]\u001b[0m\u001b[1;33m\u001b[0m\u001b[1;33m\u001b[0m\u001b[0m\n\u001b[0m\u001b[0;32m      3\u001b[0m \u001b[0mfig\u001b[0m \u001b[1;33m=\u001b[0m \u001b[0mgo\u001b[0m\u001b[1;33m.\u001b[0m\u001b[0mFigure\u001b[0m\u001b[1;33m(\u001b[0m\u001b[0mgo\u001b[0m\u001b[1;33m.\u001b[0m\u001b[0mBar\u001b[0m\u001b[1;33m(\u001b[0m\u001b[0mx\u001b[0m \u001b[1;33m=\u001b[0m \u001b[0mpayout\u001b[0m\u001b[1;33m.\u001b[0m\u001b[0mindex\u001b[0m\u001b[1;33m,\u001b[0m \u001b[0my\u001b[0m \u001b[1;33m=\u001b[0m \u001b[0mpayout\u001b[0m\u001b[1;33m)\u001b[0m\u001b[1;33m)\u001b[0m\u001b[1;33m\u001b[0m\u001b[1;33m\u001b[0m\u001b[0m\n\u001b[0;32m      4\u001b[0m \u001b[0mfig\u001b[0m\u001b[1;33m.\u001b[0m\u001b[0mupdate_layout\u001b[0m\u001b[1;33m(\u001b[0m\u001b[0mtitle\u001b[0m \u001b[1;33m=\u001b[0m \u001b[1;34m'Past dividend payout'\u001b[0m\u001b[1;33m,\u001b[0m \u001b[0mxaxis_title\u001b[0m \u001b[1;33m=\u001b[0m \u001b[1;34m'Date'\u001b[0m\u001b[1;33m,\u001b[0m \u001b[0myaxis_title\u001b[0m \u001b[1;33m=\u001b[0m \u001b[1;34m'Payout ($)'\u001b[0m\u001b[1;33m)\u001b[0m\u001b[1;33m\u001b[0m\u001b[1;33m\u001b[0m\u001b[0m\n",
      "\u001b[1;31mNameError\u001b[0m: name 'x' is not defined"
     ]
    }
   ],
   "source": [
    "import plotly.graph_objects as go\n",
    "payout = x[\"dividends\"][\"adjDividend\"][0:4]\n",
    "fig = go.Figure(go.Bar(x = payout.index, y = payout))\n",
    "fig.update_layout(title = 'Past dividend payout', xaxis_title = 'Date', yaxis_title = 'Payout ($)')"
   ]
  },
  {
   "cell_type": "code",
   "execution_count": 13,
   "metadata": {},
   "outputs": [
    {
     "name": "stdout",
     "output_type": "stream",
     "text": [
      "xsdfs\n"
     ]
    }
   ],
   "source": [
    "dividends= fa.stock_dividend('BIIB', FA_API_KEY)\n",
    "x = {\"div\": dividends}\n",
    "if x[\"div\"].empty== True:\n",
    "    print('xsdfs')"
   ]
  },
  {
   "cell_type": "code",
   "execution_count": 11,
   "metadata": {},
   "outputs": [
    {
     "data": {
      "text/plain": [
       "{'dividends': Empty DataFrame\n",
       " Columns: []\n",
       " Index: []}"
      ]
     },
     "execution_count": 11,
     "metadata": {},
     "output_type": "execute_result"
    }
   ],
   "source": [
    "dividends = fa.stock_dividend('META', FA_API_KEY)\n",
    "# dividends.index = pd.to_datetime(dividends.index)\n",
    "x = {\"dividends\": dividends}\n",
    "x[\"dividends\"][\"dividend\"]"
   ]
  }
 ],
 "metadata": {
  "kernelspec": {
   "display_name": "base",
   "language": "python",
   "name": "python3"
  },
  "language_info": {
   "codemirror_mode": {
    "name": "ipython",
    "version": 3
   },
   "file_extension": ".py",
   "mimetype": "text/x-python",
   "name": "python",
   "nbconvert_exporter": "python",
   "pygments_lexer": "ipython3",
   "version": "3.9.16"
  },
  "orig_nbformat": 4,
  "vscode": {
   "interpreter": {
    "hash": "4d9defa72c2715dab9f7f172572cd30a1ab1a2083462d32ef96aadb7c6e0c73b"
   }
  }
 },
 "nbformat": 4,
 "nbformat_minor": 2
}
